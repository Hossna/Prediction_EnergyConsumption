{
 "cells": [
  {
   "cell_type": "markdown",
   "metadata": {},
   "source": [
    "  \n"
   ]
  },
  {
   "cell_type": "code",
   "execution_count": null,
   "metadata": {},
   "outputs": [],
   "source": []
  },
  {
   "cell_type": "markdown",
   "metadata": {},
   "source": [
    "# load and read the data\n"
   ]
  },
  {
   "cell_type": "markdown",
   "metadata": {},
   "source": [
    "load the data using use the requests.get(), The data file \"recs2009_public.csv\" will be downloaded in the same directory as this jupyternotebook \"energy.ipynb\":"
   ]
  },
  {
   "cell_type": "code",
   "execution_count": 1,
   "metadata": {},
   "outputs": [],
   "source": [
    "import numpy as np\n",
    "import pandas as pd\n",
    "import matplotlib.pyplot as plt"
   ]
  },
  {
   "cell_type": "code",
   "execution_count": 163,
   "metadata": {
    "scrolled": true
   },
   "outputs": [
    {
     "name": "stderr",
     "output_type": "stream",
     "text": [
      "/tmp/ipykernel_9594/1019431269.py:5: DtypeWarning: Columns (717,718) have mixed types. Specify dtype option on import or set low_memory=False.\n",
      "  df = pd.read_csv('recs2009_public.csv')\n"
     ]
    }
   ],
   "source": [
    "import requests\n",
    "URL = \"https://www.eia.gov/consumption/residential/data/2009/csv/recs2009_public.csv\"\n",
    "response = requests.get(URL)\n",
    "open(\"recs2009_public.csv\", \"wb\").write(response.content)\n",
    "df = pd.read_csv('recs2009_public.csv')"
   ]
  },
  {
   "cell_type": "markdown",
   "metadata": {},
   "source": [
    "# study the Data and Data Cleaning"
   ]
  },
  {
   "cell_type": "markdown",
   "metadata": {},
   "source": [
    "#Quick look at the data structure: 4 first rows of data to get a view of it:"
   ]
  },
  {
   "cell_type": "code",
   "execution_count": 79,
   "metadata": {},
   "outputs": [
    {
     "data": {
      "text/html": [
       "<div>\n",
       "<style scoped>\n",
       "    .dataframe tbody tr th:only-of-type {\n",
       "        vertical-align: middle;\n",
       "    }\n",
       "\n",
       "    .dataframe tbody tr th {\n",
       "        vertical-align: top;\n",
       "    }\n",
       "\n",
       "    .dataframe thead th {\n",
       "        text-align: right;\n",
       "    }\n",
       "</style>\n",
       "<table border=\"1\" class=\"dataframe\">\n",
       "  <thead>\n",
       "    <tr style=\"text-align: right;\">\n",
       "      <th></th>\n",
       "      <th>DOEID</th>\n",
       "      <th>REGIONC</th>\n",
       "      <th>DIVISION</th>\n",
       "      <th>REPORTABLE_DOMAIN</th>\n",
       "      <th>TYPEHUQ</th>\n",
       "      <th>NWEIGHT</th>\n",
       "      <th>HDD65</th>\n",
       "      <th>CDD65</th>\n",
       "      <th>HDD30YR</th>\n",
       "      <th>CDD30YR</th>\n",
       "      <th>...</th>\n",
       "      <th>SCALEKER</th>\n",
       "      <th>IECC_Climate_Pub</th>\n",
       "      <th>HDD50</th>\n",
       "      <th>CDD80</th>\n",
       "      <th>GND_HDD65</th>\n",
       "      <th>WSF</th>\n",
       "      <th>OA_LAT</th>\n",
       "      <th>GWT</th>\n",
       "      <th>DesignDBT99</th>\n",
       "      <th>DesignDBT1</th>\n",
       "    </tr>\n",
       "  </thead>\n",
       "  <tbody>\n",
       "    <tr>\n",
       "      <th>0</th>\n",
       "      <td>1</td>\n",
       "      <td>2</td>\n",
       "      <td>4</td>\n",
       "      <td>12</td>\n",
       "      <td>2</td>\n",
       "      <td>2471.68</td>\n",
       "      <td>4742</td>\n",
       "      <td>1080</td>\n",
       "      <td>4953</td>\n",
       "      <td>1271</td>\n",
       "      <td>...</td>\n",
       "      <td>-2</td>\n",
       "      <td>4A</td>\n",
       "      <td>2117</td>\n",
       "      <td>56</td>\n",
       "      <td>4250</td>\n",
       "      <td>0.48</td>\n",
       "      <td>6</td>\n",
       "      <td>56</td>\n",
       "      <td>9</td>\n",
       "      <td>96</td>\n",
       "    </tr>\n",
       "    <tr>\n",
       "      <th>1</th>\n",
       "      <td>2</td>\n",
       "      <td>4</td>\n",
       "      <td>10</td>\n",
       "      <td>26</td>\n",
       "      <td>2</td>\n",
       "      <td>8599.17</td>\n",
       "      <td>2662</td>\n",
       "      <td>199</td>\n",
       "      <td>2688</td>\n",
       "      <td>143</td>\n",
       "      <td>...</td>\n",
       "      <td>-2</td>\n",
       "      <td>3C</td>\n",
       "      <td>62</td>\n",
       "      <td>26</td>\n",
       "      <td>2393</td>\n",
       "      <td>0.61</td>\n",
       "      <td>0</td>\n",
       "      <td>64</td>\n",
       "      <td>38</td>\n",
       "      <td>73</td>\n",
       "    </tr>\n",
       "    <tr>\n",
       "      <th>2</th>\n",
       "      <td>3</td>\n",
       "      <td>1</td>\n",
       "      <td>1</td>\n",
       "      <td>1</td>\n",
       "      <td>5</td>\n",
       "      <td>8969.92</td>\n",
       "      <td>6233</td>\n",
       "      <td>505</td>\n",
       "      <td>5741</td>\n",
       "      <td>829</td>\n",
       "      <td>...</td>\n",
       "      <td>-2</td>\n",
       "      <td>5A</td>\n",
       "      <td>2346</td>\n",
       "      <td>49</td>\n",
       "      <td>5654</td>\n",
       "      <td>0.48</td>\n",
       "      <td>3</td>\n",
       "      <td>52</td>\n",
       "      <td>12</td>\n",
       "      <td>88</td>\n",
       "    </tr>\n",
       "    <tr>\n",
       "      <th>3</th>\n",
       "      <td>4</td>\n",
       "      <td>2</td>\n",
       "      <td>3</td>\n",
       "      <td>7</td>\n",
       "      <td>2</td>\n",
       "      <td>18003.64</td>\n",
       "      <td>6034</td>\n",
       "      <td>672</td>\n",
       "      <td>5781</td>\n",
       "      <td>868</td>\n",
       "      <td>...</td>\n",
       "      <td>-2</td>\n",
       "      <td>5A</td>\n",
       "      <td>2746</td>\n",
       "      <td>0</td>\n",
       "      <td>4941</td>\n",
       "      <td>0.55</td>\n",
       "      <td>4</td>\n",
       "      <td>55</td>\n",
       "      <td>7</td>\n",
       "      <td>87</td>\n",
       "    </tr>\n",
       "    <tr>\n",
       "      <th>4</th>\n",
       "      <td>5</td>\n",
       "      <td>1</td>\n",
       "      <td>1</td>\n",
       "      <td>1</td>\n",
       "      <td>3</td>\n",
       "      <td>5999.61</td>\n",
       "      <td>5388</td>\n",
       "      <td>702</td>\n",
       "      <td>5313</td>\n",
       "      <td>797</td>\n",
       "      <td>...</td>\n",
       "      <td>-2</td>\n",
       "      <td>5A</td>\n",
       "      <td>2251</td>\n",
       "      <td>0</td>\n",
       "      <td>5426</td>\n",
       "      <td>0.61</td>\n",
       "      <td>4</td>\n",
       "      <td>50</td>\n",
       "      <td>13</td>\n",
       "      <td>90</td>\n",
       "    </tr>\n",
       "  </tbody>\n",
       "</table>\n",
       "<p>5 rows × 940 columns</p>\n",
       "</div>"
      ],
      "text/plain": [
       "   DOEID  REGIONC  DIVISION  REPORTABLE_DOMAIN  TYPEHUQ   NWEIGHT  HDD65  \\\n",
       "0      1        2         4                 12        2   2471.68   4742   \n",
       "1      2        4        10                 26        2   8599.17   2662   \n",
       "2      3        1         1                  1        5   8969.92   6233   \n",
       "3      4        2         3                  7        2  18003.64   6034   \n",
       "4      5        1         1                  1        3   5999.61   5388   \n",
       "\n",
       "   CDD65  HDD30YR  CDD30YR  ...  SCALEKER  IECC_Climate_Pub HDD50 CDD80  \\\n",
       "0   1080     4953     1271  ...        -2                4A  2117    56   \n",
       "1    199     2688      143  ...        -2                3C    62    26   \n",
       "2    505     5741      829  ...        -2                5A  2346    49   \n",
       "3    672     5781      868  ...        -2                5A  2746     0   \n",
       "4    702     5313      797  ...        -2                5A  2251     0   \n",
       "\n",
       "   GND_HDD65   WSF  OA_LAT  GWT  DesignDBT99  DesignDBT1  \n",
       "0       4250  0.48       6   56            9          96  \n",
       "1       2393  0.61       0   64           38          73  \n",
       "2       5654  0.48       3   52           12          88  \n",
       "3       4941  0.55       4   55            7          87  \n",
       "4       5426  0.61       4   50           13          90  \n",
       "\n",
       "[5 rows x 940 columns]"
      ]
     },
     "execution_count": 79,
     "metadata": {},
     "output_type": "execute_result"
    }
   ],
   "source": [
    "df.head()"
   ]
  },
  {
   "cell_type": "markdown",
   "metadata": {},
   "source": [
    "#it can be seen that there are 940 attributes. The info() method gets a quick description of the data, the total numbers of rows and each attribute's type and the number of non-null values."
   ]
  },
  {
   "cell_type": "code",
   "execution_count": 80,
   "metadata": {},
   "outputs": [
    {
     "name": "stdout",
     "output_type": "stream",
     "text": [
      "<class 'pandas.core.frame.DataFrame'>\n",
      "RangeIndex: 12083 entries, 0 to 12082\n",
      "Columns: 940 entries, DOEID to DesignDBT1\n",
      "dtypes: float64(50), int64(885), object(5)\n",
      "memory usage: 86.7+ MB\n"
     ]
    }
   ],
   "source": [
    "df.info()"
   ]
  },
  {
   "cell_type": "markdown",
   "metadata": {},
   "source": [
    "#there are some of the attributes which are not numerical and they are objects (they must be text attributes because this is a CSV file).\n"
   ]
  },
  {
   "cell_type": "markdown",
   "metadata": {},
   "source": [
    "#by describe() method I can see the summary of the \"KWH\":"
   ]
  },
  {
   "cell_type": "code",
   "execution_count": 81,
   "metadata": {},
   "outputs": [
    {
     "data": {
      "text/plain": [
       "count     12083.000000\n",
       "mean      11288.159398\n",
       "std        7641.190845\n",
       "min          17.000000\n",
       "25%        5837.000000\n",
       "50%        9623.000000\n",
       "75%       14765.000000\n",
       "max      150254.000000\n",
       "Name: KWH, dtype: float64"
      ]
     },
     "execution_count": 81,
     "metadata": {},
     "output_type": "execute_result"
    }
   ],
   "source": [
    "df.describe()['KWH']"
   ]
  },
  {
   "cell_type": "markdown",
   "metadata": {},
   "source": [
    "#to check if there is null values. So there is not any null values."
   ]
  },
  {
   "cell_type": "code",
   "execution_count": 82,
   "metadata": {},
   "outputs": [
    {
     "data": {
      "text/plain": [
       "DOEID                0\n",
       "REGIONC              0\n",
       "DIVISION             0\n",
       "REPORTABLE_DOMAIN    0\n",
       "TYPEHUQ              0\n",
       "                    ..\n",
       "WSF                  0\n",
       "OA_LAT               0\n",
       "GWT                  0\n",
       "DesignDBT99          0\n",
       "DesignDBT1           0\n",
       "Length: 940, dtype: int64"
      ]
     },
     "execution_count": 82,
     "metadata": {},
     "output_type": "execute_result"
    }
   ],
   "source": [
    "df.isnull().sum()"
   ]
  },
  {
   "cell_type": "code",
   "execution_count": 83,
   "metadata": {},
   "outputs": [
    {
     "data": {
      "text/plain": [
       "(12083, 940)"
      ]
     },
     "execution_count": 83,
     "metadata": {},
     "output_type": "execute_result"
    }
   ],
   "source": [
    "df.shape"
   ]
  },
  {
   "cell_type": "markdown",
   "metadata": {},
   "source": [
    "#dropna() delete null values."
   ]
  },
  {
   "cell_type": "code",
   "execution_count": 84,
   "metadata": {},
   "outputs": [
    {
     "data": {
      "text/plain": [
       "(12083, 940)"
      ]
     },
     "execution_count": 84,
     "metadata": {},
     "output_type": "execute_result"
    }
   ],
   "source": [
    "df.dropna().shape "
   ]
  },
  {
   "cell_type": "markdown",
   "metadata": {},
   "source": [
    "#because the dimonsion of the dataframe is not changed after using dropna() method, so one more time I am confident that there is not null values."
   ]
  },
  {
   "cell_type": "markdown",
   "metadata": {},
   "source": [
    "#one way to quick study of the data and is  to  plot  a  histogram. By looking at the figure, I found that my labales (target attribute which is \"KWH\") is \"tail heavy\". So it may make it harder for a machine learning algorithm to detect patterns.So it would be better to transforme it to a bell-shaped distributions."
   ]
  },
  {
   "cell_type": "code",
   "execution_count": 85,
   "metadata": {},
   "outputs": [
    {
     "data": {
      "text/plain": [
       "<AxesSubplot:>"
      ]
     },
     "execution_count": 85,
     "metadata": {},
     "output_type": "execute_result"
    },
    {
     "data": {
      "image/png": "[encoded data removed]",
      "text/plain": [
       "<Figure size 432x288 with 1 Axes>"
      ]
     },
     "metadata": {
      "needs_background": "light"
     },
     "output_type": "display_data"
    }
   ],
   "source": [
    "df.KWH.hist(bins=50)"
   ]
  },
  {
   "cell_type": "code",
   "execution_count": 86,
   "metadata": {},
   "outputs": [
    {
     "data": {
      "text/html": [
       "<div>\n",
       "<style scoped>\n",
       "    .dataframe tbody tr th:only-of-type {\n",
       "        vertical-align: middle;\n",
       "    }\n",
       "\n",
       "    .dataframe tbody tr th {\n",
       "        vertical-align: top;\n",
       "    }\n",
       "\n",
       "    .dataframe thead th {\n",
       "        text-align: right;\n",
       "    }\n",
       "</style>\n",
       "<table border=\"1\" class=\"dataframe\">\n",
       "  <thead>\n",
       "    <tr style=\"text-align: right;\">\n",
       "      <th></th>\n",
       "      <th>DOEID</th>\n",
       "      <th>REGIONC</th>\n",
       "      <th>DIVISION</th>\n",
       "      <th>REPORTABLE_DOMAIN</th>\n",
       "      <th>TYPEHUQ</th>\n",
       "      <th>NWEIGHT</th>\n",
       "      <th>HDD65</th>\n",
       "      <th>CDD65</th>\n",
       "      <th>HDD30YR</th>\n",
       "      <th>CDD30YR</th>\n",
       "      <th>...</th>\n",
       "      <th>SCALEKER</th>\n",
       "      <th>IECC_Climate_Pub</th>\n",
       "      <th>HDD50</th>\n",
       "      <th>CDD80</th>\n",
       "      <th>GND_HDD65</th>\n",
       "      <th>WSF</th>\n",
       "      <th>OA_LAT</th>\n",
       "      <th>GWT</th>\n",
       "      <th>DesignDBT99</th>\n",
       "      <th>DesignDBT1</th>\n",
       "    </tr>\n",
       "  </thead>\n",
       "  <tbody>\n",
       "  </tbody>\n",
       "</table>\n",
       "<p>0 rows × 940 columns</p>\n",
       "</div>"
      ],
      "text/plain": [
       "Empty DataFrame\n",
       "Columns: [DOEID, REGIONC, DIVISION, REPORTABLE_DOMAIN, TYPEHUQ, NWEIGHT, HDD65, CDD65, HDD30YR, CDD30YR, Climate_Region_Pub, AIA_Zone, METROMICRO, UR, KOWNRENT, CONDCOOP, YEARMADE, YEARMADERANGE, OCCUPYYRANGE, CONVERSION, ORIG1FAM, LOOKLIKE, NUMFLRS, NUMAPTS, WALLTYPE, ROOFTYPE, STUDIO, NAPTFLRS, STORIES, TYPEHUQ4, BEDROOMS, NCOMBATH, NHAFBATH, OTHROOMS, TOTROOMS, CELLAR, CRAWL, CONCRETE, BASEFIN, FINBASERMS, BASEHEAT, BASEHT2, PCTBSTHT, BASECOOL, BASECL2, PCTBSTCL, BASEUSE, ATTIC, ATTICFIN, FINATTRMS, ATTCHEAT, ATTCHT2, PCTATTHT, ATTCCOOL, ATTCCL2, PCTATTCL, ATTICUSE, PRKGPLC1, SIZEOFGARAGE, GARGLOC, GARGHEAT, GARGCOOL, PRKGPLC2, SIZEOFDETACH, OUTLET, ZKOWNRENT, ZCONDCOOP, ZYEARMADE, ZYEARMADERANGE, ZOCCUPYYRANGE, ZCONVERSION, ZORIG1FAM, ZLOOKLIKE, ZNUMFLRS, ZNUMAPTS, ZWALLTYPE, ZROOFTYPE, ZSTUDIO, ZNAPTFLRS, ZSTORIES, ZTYPEHUQ4, ZBEDROOMS, ZNCOMBATH, ZNHAFBATH, ZOTHROOMS, ZCELLAR, ZCRAWL, ZCONCRETE, ZBASEFIN, ZFINBASERMS, ZBASEHEAT, ZBASEHT2, ZPCTBSTHT, ZBASECOOL, ZBASECL2, ZPCTBSTCL, ZBASEUSE, ZATTIC, ZATTICFIN, ZFINATTRMS, ...]\n",
       "Index: []\n",
       "\n",
       "[0 rows x 940 columns]"
      ]
     },
     "execution_count": 86,
     "metadata": {},
     "output_type": "execute_result"
    }
   ],
   "source": [
    "df[df.KWH <0]"
   ]
  },
  {
   "cell_type": "code",
   "execution_count": 87,
   "metadata": {},
   "outputs": [
    {
     "data": {
      "text/html": [
       "<div>\n",
       "<style scoped>\n",
       "    .dataframe tbody tr th:only-of-type {\n",
       "        vertical-align: middle;\n",
       "    }\n",
       "\n",
       "    .dataframe tbody tr th {\n",
       "        vertical-align: top;\n",
       "    }\n",
       "\n",
       "    .dataframe thead th {\n",
       "        text-align: right;\n",
       "    }\n",
       "</style>\n",
       "<table border=\"1\" class=\"dataframe\">\n",
       "  <thead>\n",
       "    <tr style=\"text-align: right;\">\n",
       "      <th></th>\n",
       "      <th>DOEID</th>\n",
       "      <th>REGIONC</th>\n",
       "      <th>DIVISION</th>\n",
       "      <th>REPORTABLE_DOMAIN</th>\n",
       "      <th>TYPEHUQ</th>\n",
       "      <th>NWEIGHT</th>\n",
       "      <th>HDD65</th>\n",
       "      <th>CDD65</th>\n",
       "      <th>HDD30YR</th>\n",
       "      <th>CDD30YR</th>\n",
       "      <th>...</th>\n",
       "      <th>SCALEKER</th>\n",
       "      <th>IECC_Climate_Pub</th>\n",
       "      <th>HDD50</th>\n",
       "      <th>CDD80</th>\n",
       "      <th>GND_HDD65</th>\n",
       "      <th>WSF</th>\n",
       "      <th>OA_LAT</th>\n",
       "      <th>GWT</th>\n",
       "      <th>DesignDBT99</th>\n",
       "      <th>DesignDBT1</th>\n",
       "    </tr>\n",
       "  </thead>\n",
       "  <tbody>\n",
       "    <tr>\n",
       "      <th>1362</th>\n",
       "      <td>1363</td>\n",
       "      <td>3</td>\n",
       "      <td>5</td>\n",
       "      <td>14</td>\n",
       "      <td>2</td>\n",
       "      <td>12661.58</td>\n",
       "      <td>5342</td>\n",
       "      <td>812</td>\n",
       "      <td>5276</td>\n",
       "      <td>914</td>\n",
       "      <td>...</td>\n",
       "      <td>-2</td>\n",
       "      <td>4A</td>\n",
       "      <td>2102</td>\n",
       "      <td>0</td>\n",
       "      <td>4779</td>\n",
       "      <td>0.44</td>\n",
       "      <td>3</td>\n",
       "      <td>57</td>\n",
       "      <td>16</td>\n",
       "      <td>90</td>\n",
       "    </tr>\n",
       "    <tr>\n",
       "      <th>3551</th>\n",
       "      <td>3552</td>\n",
       "      <td>3</td>\n",
       "      <td>5</td>\n",
       "      <td>17</td>\n",
       "      <td>2</td>\n",
       "      <td>9242.95</td>\n",
       "      <td>1736</td>\n",
       "      <td>2540</td>\n",
       "      <td>1726</td>\n",
       "      <td>2334</td>\n",
       "      <td>...</td>\n",
       "      <td>-2</td>\n",
       "      <td>1A-2A</td>\n",
       "      <td>290</td>\n",
       "      <td>136</td>\n",
       "      <td>638</td>\n",
       "      <td>0.38</td>\n",
       "      <td>17</td>\n",
       "      <td>69</td>\n",
       "      <td>32</td>\n",
       "      <td>96</td>\n",
       "    </tr>\n",
       "    <tr>\n",
       "      <th>4212</th>\n",
       "      <td>4213</td>\n",
       "      <td>2</td>\n",
       "      <td>3</td>\n",
       "      <td>6</td>\n",
       "      <td>2</td>\n",
       "      <td>19177.03</td>\n",
       "      <td>6788</td>\n",
       "      <td>481</td>\n",
       "      <td>6669</td>\n",
       "      <td>721</td>\n",
       "      <td>...</td>\n",
       "      <td>-2</td>\n",
       "      <td>5A</td>\n",
       "      <td>3247</td>\n",
       "      <td>0</td>\n",
       "      <td>6868</td>\n",
       "      <td>0.61</td>\n",
       "      <td>3</td>\n",
       "      <td>52</td>\n",
       "      <td>2</td>\n",
       "      <td>86</td>\n",
       "    </tr>\n",
       "    <tr>\n",
       "      <th>4418</th>\n",
       "      <td>4419</td>\n",
       "      <td>3</td>\n",
       "      <td>5</td>\n",
       "      <td>17</td>\n",
       "      <td>2</td>\n",
       "      <td>6557.74</td>\n",
       "      <td>266</td>\n",
       "      <td>3920</td>\n",
       "      <td>207</td>\n",
       "      <td>3775</td>\n",
       "      <td>...</td>\n",
       "      <td>-2</td>\n",
       "      <td>1A-2A</td>\n",
       "      <td>66</td>\n",
       "      <td>377</td>\n",
       "      <td>25</td>\n",
       "      <td>0.33</td>\n",
       "      <td>28</td>\n",
       "      <td>78</td>\n",
       "      <td>48</td>\n",
       "      <td>92</td>\n",
       "    </tr>\n",
       "    <tr>\n",
       "      <th>4712</th>\n",
       "      <td>4713</td>\n",
       "      <td>3</td>\n",
       "      <td>5</td>\n",
       "      <td>17</td>\n",
       "      <td>2</td>\n",
       "      <td>6540.32</td>\n",
       "      <td>623</td>\n",
       "      <td>3475</td>\n",
       "      <td>618</td>\n",
       "      <td>3254</td>\n",
       "      <td>...</td>\n",
       "      <td>-2</td>\n",
       "      <td>1A-2A</td>\n",
       "      <td>18</td>\n",
       "      <td>317</td>\n",
       "      <td>16</td>\n",
       "      <td>0.42</td>\n",
       "      <td>25</td>\n",
       "      <td>77</td>\n",
       "      <td>44</td>\n",
       "      <td>91</td>\n",
       "    </tr>\n",
       "    <tr>\n",
       "      <th>4839</th>\n",
       "      <td>4840</td>\n",
       "      <td>4</td>\n",
       "      <td>10</td>\n",
       "      <td>26</td>\n",
       "      <td>2</td>\n",
       "      <td>6466.42</td>\n",
       "      <td>1048</td>\n",
       "      <td>1096</td>\n",
       "      <td>1231</td>\n",
       "      <td>789</td>\n",
       "      <td>...</td>\n",
       "      <td>-2</td>\n",
       "      <td>3B-4B</td>\n",
       "      <td>37</td>\n",
       "      <td>153</td>\n",
       "      <td>1018</td>\n",
       "      <td>0.40</td>\n",
       "      <td>1</td>\n",
       "      <td>58</td>\n",
       "      <td>46</td>\n",
       "      <td>85</td>\n",
       "    </tr>\n",
       "    <tr>\n",
       "      <th>8112</th>\n",
       "      <td>8113</td>\n",
       "      <td>4</td>\n",
       "      <td>10</td>\n",
       "      <td>27</td>\n",
       "      <td>2</td>\n",
       "      <td>10270.16</td>\n",
       "      <td>6385</td>\n",
       "      <td>253</td>\n",
       "      <td>7126</td>\n",
       "      <td>137</td>\n",
       "      <td>...</td>\n",
       "      <td>-2</td>\n",
       "      <td>5B-5C</td>\n",
       "      <td>2940</td>\n",
       "      <td>0</td>\n",
       "      <td>6074</td>\n",
       "      <td>0.62</td>\n",
       "      <td>0</td>\n",
       "      <td>48</td>\n",
       "      <td>12</td>\n",
       "      <td>93</td>\n",
       "    </tr>\n",
       "    <tr>\n",
       "      <th>9129</th>\n",
       "      <td>9130</td>\n",
       "      <td>2</td>\n",
       "      <td>3</td>\n",
       "      <td>6</td>\n",
       "      <td>2</td>\n",
       "      <td>19177.03</td>\n",
       "      <td>6359</td>\n",
       "      <td>579</td>\n",
       "      <td>6656</td>\n",
       "      <td>687</td>\n",
       "      <td>...</td>\n",
       "      <td>-2</td>\n",
       "      <td>5A</td>\n",
       "      <td>3093</td>\n",
       "      <td>22</td>\n",
       "      <td>6706</td>\n",
       "      <td>0.59</td>\n",
       "      <td>2</td>\n",
       "      <td>53</td>\n",
       "      <td>10</td>\n",
       "      <td>88</td>\n",
       "    </tr>\n",
       "    <tr>\n",
       "      <th>10220</th>\n",
       "      <td>10221</td>\n",
       "      <td>2</td>\n",
       "      <td>4</td>\n",
       "      <td>12</td>\n",
       "      <td>2</td>\n",
       "      <td>2566.03</td>\n",
       "      <td>4587</td>\n",
       "      <td>1227</td>\n",
       "      <td>4622</td>\n",
       "      <td>1439</td>\n",
       "      <td>...</td>\n",
       "      <td>-2</td>\n",
       "      <td>4A</td>\n",
       "      <td>2000</td>\n",
       "      <td>40</td>\n",
       "      <td>3850</td>\n",
       "      <td>0.44</td>\n",
       "      <td>6</td>\n",
       "      <td>58</td>\n",
       "      <td>10</td>\n",
       "      <td>90</td>\n",
       "    </tr>\n",
       "  </tbody>\n",
       "</table>\n",
       "<p>9 rows × 940 columns</p>\n",
       "</div>"
      ],
      "text/plain": [
       "       DOEID  REGIONC  DIVISION  REPORTABLE_DOMAIN  TYPEHUQ   NWEIGHT  HDD65  \\\n",
       "1362    1363        3         5                 14        2  12661.58   5342   \n",
       "3551    3552        3         5                 17        2   9242.95   1736   \n",
       "4212    4213        2         3                  6        2  19177.03   6788   \n",
       "4418    4419        3         5                 17        2   6557.74    266   \n",
       "4712    4713        3         5                 17        2   6540.32    623   \n",
       "4839    4840        4        10                 26        2   6466.42   1048   \n",
       "8112    8113        4        10                 27        2  10270.16   6385   \n",
       "9129    9130        2         3                  6        2  19177.03   6359   \n",
       "10220  10221        2         4                 12        2   2566.03   4587   \n",
       "\n",
       "       CDD65  HDD30YR  CDD30YR  ...  SCALEKER  IECC_Climate_Pub HDD50 CDD80  \\\n",
       "1362     812     5276      914  ...        -2                4A  2102     0   \n",
       "3551    2540     1726     2334  ...        -2             1A-2A   290   136   \n",
       "4212     481     6669      721  ...        -2                5A  3247     0   \n",
       "4418    3920      207     3775  ...        -2             1A-2A    66   377   \n",
       "4712    3475      618     3254  ...        -2             1A-2A    18   317   \n",
       "4839    1096     1231      789  ...        -2             3B-4B    37   153   \n",
       "8112     253     7126      137  ...        -2             5B-5C  2940     0   \n",
       "9129     579     6656      687  ...        -2                5A  3093    22   \n",
       "10220   1227     4622     1439  ...        -2                4A  2000    40   \n",
       "\n",
       "       GND_HDD65   WSF  OA_LAT  GWT  DesignDBT99  DesignDBT1  \n",
       "1362        4779  0.44       3   57           16          90  \n",
       "3551         638  0.38      17   69           32          96  \n",
       "4212        6868  0.61       3   52            2          86  \n",
       "4418          25  0.33      28   78           48          92  \n",
       "4712          16  0.42      25   77           44          91  \n",
       "4839        1018  0.40       1   58           46          85  \n",
       "8112        6074  0.62       0   48           12          93  \n",
       "9129        6706  0.59       2   53           10          88  \n",
       "10220       3850  0.44       6   58           10          90  \n",
       "\n",
       "[9 rows x 940 columns]"
      ]
     },
     "execution_count": 87,
     "metadata": {},
     "output_type": "execute_result"
    }
   ],
   "source": [
    "df[df.KWH >60000]"
   ]
  },
  {
   "cell_type": "code",
   "execution_count": 88,
   "metadata": {},
   "outputs": [
    {
     "data": {
      "text/plain": [
       "<AxesSubplot:>"
      ]
     },
     "execution_count": 88,
     "metadata": {},
     "output_type": "execute_result"
    },
    {
     "data": {
      "image/png": "[encoded data removed]",
      "text/plain": [
       "<Figure size 432x288 with 1 Axes>"
      ]
     },
     "metadata": {
      "needs_background": "light"
     },
     "output_type": "display_data"
    }
   ],
   "source": [
    "df.KWH[df.KWH <40000].hist(bins=50)"
   ]
  },
  {
   "cell_type": "markdown",
   "metadata": {},
   "source": [
    "#some of Machine learning algorithms like linear regression require numeric input data so if they are used with string-based categorical data, they will throw an error. Because of that I need to encode the categorical data as numeric dummy variables. Before cleaning I saved a copy of data in df_original to be unchanged."
   ]
  },
  {
   "cell_type": "code",
   "execution_count": 89,
   "metadata": {},
   "outputs": [],
   "source": [
    "df_original = df.copy()"
   ]
  },
  {
   "cell_type": "code",
   "execution_count": 90,
   "metadata": {},
   "outputs": [],
   "source": [
    "df = pd.get_dummies(df)"
   ]
  },
  {
   "cell_type": "markdown",
   "metadata": {},
   "source": [
    "#Here I test the \"StandardScaler\" on some part of data to check if it works well:"
   ]
  },
  {
   "cell_type": "code",
   "execution_count": 166,
   "metadata": {},
   "outputs": [
    {
     "data": {
      "text/plain": [
       "array([[-1.34164079, -0.22941573, -0.1490712 ,  0.05415304, -0.57735027,\n",
       "        -1.27047402],\n",
       "       [-0.4472136 ,  1.60591014,  1.63978318,  1.57043805, -0.57735027,\n",
       "        -0.16458545],\n",
       "       [ 0.4472136 , -1.14707867, -1.04349839, -1.13721376,  1.73205081,\n",
       "        -0.09767254],\n",
       "       [ 1.34164079, -0.22941573, -0.4472136 , -0.48737732, -0.57735027,\n",
       "         1.53273202]])"
      ]
     },
     "execution_count": 166,
     "metadata": {},
     "output_type": "execute_result"
    }
   ],
   "source": [
    "from sklearn.preprocessing import StandardScaler\n",
    "scaler = StandardScaler()\n",
    "df_test=df.iloc[0:4,0:6]\n",
    "df_test_reduced = scaler.fit_transform(df_test)\n",
    "df_test_reduced"
   ]
  },
  {
   "cell_type": "code",
   "execution_count": 95,
   "metadata": {},
   "outputs": [
    {
     "data": {
      "text/plain": [
       "array([1., 1., 1., 1., 1., 1.])"
      ]
     },
     "execution_count": 95,
     "metadata": {},
     "output_type": "execute_result"
    }
   ],
   "source": [
    "df_test_reduced.std(axis=0)"
   ]
  },
  {
   "cell_type": "markdown",
   "metadata": {},
   "source": [
    "# Create a Test Set:"
   ]
  },
  {
   "cell_type": "markdown",
   "metadata": {},
   "source": [
    "#The generalization of the Machine Learning model should be check for applying on new cases. One way is to split the data into two sets, training set and test set. By evaluating the model on the test set, there would be an estimate of the generalization error on the new cases.\n",
    "A very simple and effctive way to split the data is using \"train-test-split\" functions from Scikit-Learn.This function works well if the data set is large in comparison to the number of attributes, but if it is not, a significant sampling bias will be introduced in the system. In this project I assume that the dataset is large enough to use the \"trai-test-split\" function."
   ]
  },
  {
   "cell_type": "code",
   "execution_count": 96,
   "metadata": {},
   "outputs": [],
   "source": [
    "from sklearn.model_selection import train_test_split\n",
    "train_set, test_set = train_test_split(df,test_size=0.2,random_state=42)"
   ]
  },
  {
   "cell_type": "code",
   "execution_count": 97,
   "metadata": {},
   "outputs": [
    {
     "data": {
      "text/plain": [
       "(9666, 1001)"
      ]
     },
     "execution_count": 97,
     "metadata": {},
     "output_type": "execute_result"
    }
   ],
   "source": [
    "train_set.shape"
   ]
  },
  {
   "cell_type": "code",
   "execution_count": 98,
   "metadata": {},
   "outputs": [
    {
     "data": {
      "text/plain": [
       "(2417, 1001)"
      ]
     },
     "execution_count": 98,
     "metadata": {},
     "output_type": "execute_result"
    }
   ],
   "source": [
    "test_set.shape"
   ]
  },
  {
   "cell_type": "code",
   "execution_count": 99,
   "metadata": {},
   "outputs": [],
   "source": [
    "y_train, y_test= train_set['KWH'], test_set['KWH']\n",
    "X_train = train_set.drop('KWH', axis =1)\n",
    "X_test = test_set.drop('KWH', axis =1)"
   ]
  },
  {
   "cell_type": "markdown",
   "metadata": {},
   "source": [
    "# Feature scaling"
   ]
  },
  {
   "cell_type": "markdown",
   "metadata": {},
   "source": [
    "#Another tranformation needs to be done to the data is \"feature scaling\".The machine learning algorithms usually don't perform well when the input numerical attributes have very different scales.Here I used \"Standardization\" to scale the data. Scikit-Learn provides a transformer called \"StandardScaler\" for standardization. Important point is to fit the scalers to the training data only, not to the full dataset:"
   ]
  },
  {
   "cell_type": "code",
   "execution_count": 100,
   "metadata": {},
   "outputs": [],
   "source": [
    "scaler = StandardScaler()\n",
    "X_train_reduced=scaler.fit_transform(X_train)\n",
    "#X_train_reduced.mean(axis=0)\n",
    "#print(X_train_reduced.shape, X_test.shape, y_train.shape, y_test.shape)"
   ]
  },
  {
   "cell_type": "code",
   "execution_count": 101,
   "metadata": {},
   "outputs": [],
   "source": [
    "#from sklearn.linear_model import LinearRegression\n",
    "#lin_reg_nonpca = LinearRegression()\n",
    "#lin_reg_nonpca.fit(X_train_reduced, y_train)"
   ]
  },
  {
   "cell_type": "code",
   "execution_count": 102,
   "metadata": {},
   "outputs": [],
   "source": [
    "X_train_reduced.std(axis=0);"
   ]
  },
  {
   "cell_type": "code",
   "execution_count": 103,
   "metadata": {},
   "outputs": [],
   "source": [
    "#from sklearn.linear_model import Ridge\n",
    "#ridge = Ridge()\n",
    "#ridge.fit(X_train_reduced, y_train)\n",
    "#ridge.score(X_test_reduced, y_test)"
   ]
  },
  {
   "cell_type": "code",
   "execution_count": 104,
   "metadata": {},
   "outputs": [],
   "source": [
    "#lin_reg_2 = LinearRegression()\n",
    "#lin_reg_2.fit(X_train_reduced, y_train)\n",
    "#lin_reg_2.score(X_test_reduced, y_test)"
   ]
  },
  {
   "cell_type": "code",
   "execution_count": 105,
   "metadata": {},
   "outputs": [],
   "source": [
    "scaler2 = StandardScaler()\n",
    "X_test_reduced=scaler2.fit_transform(X_test)\n",
    "X_test_reduced.mean(axis=0);"
   ]
  },
  {
   "cell_type": "code",
   "execution_count": 106,
   "metadata": {},
   "outputs": [],
   "source": [
    "#lin_reg_nonpca.score(X_test_reduced,y_test)"
   ]
  },
  {
   "cell_type": "markdown",
   "metadata": {},
   "source": [
    "# Reduce the dimonsinality "
   ]
  },
  {
   "cell_type": "markdown",
   "metadata": {},
   "source": [
    "#In this problem there are large numbers of attributes so it is not easy to find correlation between the variables  so I used \"PCA\" class in Scikit-Learn to reduce the dimonsinality of the dataset. Principal component analysis(PCA) is a technique to find undelying correlation exist in a very large dataset.\n",
    "#The following code computes the minimum number of dimensions required to preserve 95% of the training set's variance:"
   ]
  },
  {
   "cell_type": "code",
   "execution_count": 107,
   "metadata": {},
   "outputs": [],
   "source": [
    "from sklearn.decomposition import PCA\n",
    "pca=PCA(n_components=0.95)\n",
    "X_train_reduced_pca = pca.fit_transform(X_train_reduced)"
   ]
  },
  {
   "cell_type": "code",
   "execution_count": 108,
   "metadata": {},
   "outputs": [],
   "source": [
    "pca.components_.max(axis=1);"
   ]
  },
  {
   "cell_type": "markdown",
   "metadata": {},
   "source": [
    "#Now I check if the PCA works well? by looking at the mean of correlation and as they are far from 1 so I am happy. "
   ]
  },
  {
   "cell_type": "code",
   "execution_count": 109,
   "metadata": {},
   "outputs": [
    {
     "data": {
      "text/plain": [
       "(9666, 478)"
      ]
     },
     "execution_count": 109,
     "metadata": {},
     "output_type": "execute_result"
    }
   ],
   "source": [
    "X_train_reduced_pca.shape"
   ]
  },
  {
   "cell_type": "code",
   "execution_count": 110,
   "metadata": {},
   "outputs": [
    {
     "data": {
      "text/plain": [
       "array([ 0.01045105,  0.00424432,  0.00518042, ...,  0.00665533,\n",
       "        0.00992282, -0.00014243])"
      ]
     },
     "execution_count": 110,
     "metadata": {},
     "output_type": "execute_result"
    }
   ],
   "source": [
    "np.corrcoef(X_train_reduced_pca).mean(axis=1)"
   ]
  },
  {
   "cell_type": "markdown",
   "metadata": {},
   "source": [
    "# Training and evaluating the model"
   ]
  },
  {
   "cell_type": "markdown",
   "metadata": {},
   "source": [
    "#I decided to choose Linear Regression model for training."
   ]
  },
  {
   "cell_type": "code",
   "execution_count": 169,
   "metadata": {},
   "outputs": [
    {
     "data": {
      "text/html": [
       "<style>#sk-container-id-2 {color: black;background-color: white;}#sk-container-id-2 pre{padding: 0;}#sk-container-id-2 div.sk-toggleable {background-color: white;}#sk-container-id-2 label.sk-toggleable__label {cursor: pointer;display: block;width: 100%;margin-bottom: 0;padding: 0.3em;box-sizing: border-box;text-align: center;}#sk-container-id-2 label.sk-toggleable__label-arrow:before {content: \"▸\";float: left;margin-right: 0.25em;color: #696969;}#sk-container-id-2 label.sk-toggleable__label-arrow:hover:before {color: black;}#sk-container-id-2 div.sk-estimator:hover label.sk-toggleable__label-arrow:before {color: black;}#sk-container-id-2 div.sk-toggleable__content {max-height: 0;max-width: 0;overflow: hidden;text-align: left;background-color: #f0f8ff;}#sk-container-id-2 div.sk-toggleable__content pre {margin: 0.2em;color: black;border-radius: 0.25em;background-color: #f0f8ff;}#sk-container-id-2 input.sk-toggleable__control:checked~div.sk-toggleable__content {max-height: 200px;max-width: 100%;overflow: auto;}#sk-container-id-2 input.sk-toggleable__control:checked~label.sk-toggleable__label-arrow:before {content: \"▾\";}#sk-container-id-2 div.sk-estimator input.sk-toggleable__control:checked~label.sk-toggleable__label {background-color: #d4ebff;}#sk-container-id-2 div.sk-label input.sk-toggleable__control:checked~label.sk-toggleable__label {background-color: #d4ebff;}#sk-container-id-2 input.sk-hidden--visually {border: 0;clip: rect(1px 1px 1px 1px);clip: rect(1px, 1px, 1px, 1px);height: 1px;margin: -1px;overflow: hidden;padding: 0;position: absolute;width: 1px;}#sk-container-id-2 div.sk-estimator {font-family: monospace;background-color: #f0f8ff;border: 1px dotted black;border-radius: 0.25em;box-sizing: border-box;margin-bottom: 0.5em;}#sk-container-id-2 div.sk-estimator:hover {background-color: #d4ebff;}#sk-container-id-2 div.sk-parallel-item::after {content: \"\";width: 100%;border-bottom: 1px solid gray;flex-grow: 1;}#sk-container-id-2 div.sk-label:hover label.sk-toggleable__label {background-color: #d4ebff;}#sk-container-id-2 div.sk-serial::before {content: \"\";position: absolute;border-left: 1px solid gray;box-sizing: border-box;top: 0;bottom: 0;left: 50%;z-index: 0;}#sk-container-id-2 div.sk-serial {display: flex;flex-direction: column;align-items: center;background-color: white;padding-right: 0.2em;padding-left: 0.2em;position: relative;}#sk-container-id-2 div.sk-item {position: relative;z-index: 1;}#sk-container-id-2 div.sk-parallel {display: flex;align-items: stretch;justify-content: center;background-color: white;position: relative;}#sk-container-id-2 div.sk-item::before, #sk-container-id-2 div.sk-parallel-item::before {content: \"\";position: absolute;border-left: 1px solid gray;box-sizing: border-box;top: 0;bottom: 0;left: 50%;z-index: -1;}#sk-container-id-2 div.sk-parallel-item {display: flex;flex-direction: column;z-index: 1;position: relative;background-color: white;}#sk-container-id-2 div.sk-parallel-item:first-child::after {align-self: flex-end;width: 50%;}#sk-container-id-2 div.sk-parallel-item:last-child::after {align-self: flex-start;width: 50%;}#sk-container-id-2 div.sk-parallel-item:only-child::after {width: 0;}#sk-container-id-2 div.sk-dashed-wrapped {border: 1px dashed gray;margin: 0 0.4em 0.5em 0.4em;box-sizing: border-box;padding-bottom: 0.4em;background-color: white;}#sk-container-id-2 div.sk-label label {font-family: monospace;font-weight: bold;display: inline-block;line-height: 1.2em;}#sk-container-id-2 div.sk-label-container {text-align: center;}#sk-container-id-2 div.sk-container {/* jupyter's `normalize.less` sets `[hidden] { display: none; }` but bootstrap.min.css set `[hidden] { display: none !important; }` so we also need the `!important` here to be able to override the default hidden behavior on the sphinx rendered scikit-learn.org. See: https://github.com/scikit-learn/scikit-learn/issues/21755 */display: inline-block !important;position: relative;}#sk-container-id-2 div.sk-text-repr-fallback {display: none;}</style><div id=\"sk-container-id-2\" class=\"sk-top-container\"><div class=\"sk-text-repr-fallback\"><pre>LinearRegression()</pre><b>In a Jupyter environment, please rerun this cell to show the HTML representation or trust the notebook. <br />On GitHub, the HTML representation is unable to render, please try loading this page with nbviewer.org.</b></div><div class=\"sk-container\" hidden><div class=\"sk-item\"><div class=\"sk-estimator sk-toggleable\"><input class=\"sk-toggleable__control sk-hidden--visually\" id=\"sk-estimator-id-2\" type=\"checkbox\" checked><label for=\"sk-estimator-id-2\" class=\"sk-toggleable__label sk-toggleable__label-arrow\">LinearRegression</label><div class=\"sk-toggleable__content\"><pre>LinearRegression()</pre></div></div></div></div></div>"
      ],
      "text/plain": [
       "LinearRegression()"
      ]
     },
     "execution_count": 169,
     "metadata": {},
     "output_type": "execute_result"
    }
   ],
   "source": [
    "from sklearn.linear_model import LinearRegression\n",
    "lin_reg = LinearRegression()\n",
    "lin_reg.fit(X_train_reduced_pca, y_train)"
   ]
  },
  {
   "cell_type": "code",
   "execution_count": 113,
   "metadata": {},
   "outputs": [],
   "source": [
    "#X_test_reduced.shape\n"
   ]
  },
  {
   "cell_type": "code",
   "execution_count": 114,
   "metadata": {},
   "outputs": [],
   "source": [
    "#pca.components_.shape"
   ]
  },
  {
   "cell_type": "markdown",
   "metadata": {},
   "source": [
    "#As the train set has the different dimension(.shape) than the test set, getting the score (lin_reg.score) not possible. So I took the coefficient component matrix of PCA to make the test set ready:"
   ]
  },
  {
   "cell_type": "code",
   "execution_count": 170,
   "metadata": {},
   "outputs": [
    {
     "data": {
      "text/plain": [
       "(2417, 478)"
      ]
     },
     "execution_count": 170,
     "metadata": {},
     "output_type": "execute_result"
    }
   ],
   "source": [
    "X_test_prepared=X_test_reduced @ (pca.components_.T)\n",
    "X_test_prepared.shape\n"
   ]
  },
  {
   "cell_type": "code",
   "execution_count": 171,
   "metadata": {},
   "outputs": [],
   "source": [
    "y_pred = lin_reg.predict(X_test_prepared)"
   ]
  },
  {
   "cell_type": "code",
   "execution_count": 176,
   "metadata": {},
   "outputs": [
    {
     "data": {
      "text/plain": [
       "0.9841664556177011"
      ]
     },
     "execution_count": 176,
     "metadata": {},
     "output_type": "execute_result"
    }
   ],
   "source": [
    "\n",
    "lin_reg.score(X_test_prepared, y_test)\n"
   ]
  },
  {
   "cell_type": "markdown",
   "metadata": {},
   "source": [
    "#the score looks very good."
   ]
  },
  {
   "cell_type": "code",
   "execution_count": 127,
   "metadata": {},
   "outputs": [
    {
     "data": {
      "text/plain": [
       "(2417,)"
      ]
     },
     "execution_count": 127,
     "metadata": {},
     "output_type": "execute_result"
    }
   ],
   "source": [
    "y_test.shape"
   ]
  },
  {
   "cell_type": "code",
   "execution_count": 160,
   "metadata": {},
   "outputs": [
    {
     "data": {
      "text/plain": [
       "(2417,)"
      ]
     },
     "execution_count": 160,
     "metadata": {},
     "output_type": "execute_result"
    }
   ],
   "source": [
    "y_pred.shape"
   ]
  },
  {
   "cell_type": "code",
   "execution_count": 158,
   "metadata": {},
   "outputs": [
    {
     "data": {
      "text/plain": [
       "[<matplotlib.lines.Line2D at 0x7fef2cd75910>]"
      ]
     },
     "execution_count": 158,
     "metadata": {},
     "output_type": "execute_result"
    },
    {
     "data": {
      "image/png": "[encoded data removed]",
      "text/plain": [
       "<Figure size 864x432 with 1 Axes>"
      ]
     },
     "metadata": {
      "needs_background": "light"
     },
     "output_type": "display_data"
    }
   ],
   "source": [
    "fig, ax = plt.subplots(figsize=(12, 6))\n",
    "#fig.set_size_inches(18.5, 10.5)\n",
    "plt.plot(y_test,'go',markersize=0.6)\n",
    "#plt.plot(y_pred,'ro',label='prediction',markersize=0.6)\n",
    "#plt.plot( y_test,'go', label='test',markersize=0.6)\n",
    "#plt.legend()"
   ]
  },
  {
   "cell_type": "code",
   "execution_count": 44,
   "metadata": {},
   "outputs": [
    {
     "data": {
      "text/plain": [
       "(array([  1.,   0.,   2.,   2.,   0.,   0.,   0.,   0.,   1.,   0.,   0.,\n",
       "          3.,   1.,   2.,   5.,   0.,   4.,   3.,   5.,  11.,  20.,  18.,\n",
       "         25.,  39.,  60.,  66.,  80.,  98., 116., 121., 121., 143., 153.,\n",
       "        161., 140., 118., 133., 131., 105.,  95.,  83.,  51.,  61.,  47.,\n",
       "         33.,  25.,  22.,  26.,  19.,  10.,  12.,   5.,   6.,   5.,   4.,\n",
       "          3.,   6.,   2.,   5.,   3.,   0.,   2.,   0.,   0.,   1.,   0.,\n",
       "          0.,   0.,   0.,   1.,   0.,   0.,   0.,   0.,   0.,   0.,   0.,\n",
       "          0.,   0.,   0.,   0.,   0.,   0.,   0.,   0.,   0.,   0.,   0.,\n",
       "          0.,   0.,   1.,   0.,   0.,   0.,   0.,   0.,   0.,   0.,   0.,\n",
       "          1.]),\n",
       " array([-4607.7406509 , -4460.57784334, -4313.41503578, -4166.25222822,\n",
       "        -4019.08942066, -3871.9266131 , -3724.76380554, -3577.60099798,\n",
       "        -3430.43819042, -3283.27538287, -3136.11257531, -2988.94976775,\n",
       "        -2841.78696019, -2694.62415263, -2547.46134507, -2400.29853751,\n",
       "        -2253.13572995, -2105.97292239, -1958.81011484, -1811.64730728,\n",
       "        -1664.48449972, -1517.32169216, -1370.1588846 , -1222.99607704,\n",
       "        -1075.83326948,  -928.67046192,  -781.50765436,  -634.34484681,\n",
       "         -487.18203925,  -340.01923169,  -192.85642413,   -45.69361657,\n",
       "          101.46919099,   248.63199855,   395.79480611,   542.95761367,\n",
       "          690.12042122,   837.28322878,   984.44603634,  1131.6088439 ,\n",
       "         1278.77165146,  1425.93445902,  1573.09726658,  1720.26007414,\n",
       "         1867.4228817 ,  2014.58568925,  2161.74849681,  2308.91130437,\n",
       "         2456.07411193,  2603.23691949,  2750.39972705,  2897.56253461,\n",
       "         3044.72534217,  3191.88814973,  3339.05095728,  3486.21376484,\n",
       "         3633.3765724 ,  3780.53937996,  3927.70218752,  4074.86499508,\n",
       "         4222.02780264,  4369.1906102 ,  4516.35341775,  4663.51622531,\n",
       "         4810.67903287,  4957.84184043,  5105.00464799,  5252.16745555,\n",
       "         5399.33026311,  5546.49307067,  5693.65587823,  5840.81868578,\n",
       "         5987.98149334,  6135.1443009 ,  6282.30710846,  6429.46991602,\n",
       "         6576.63272358,  6723.79553114,  6870.9583387 ,  7018.12114626,\n",
       "         7165.28395381,  7312.44676137,  7459.60956893,  7606.77237649,\n",
       "         7753.93518405,  7901.09799161,  8048.26079917,  8195.42360673,\n",
       "         8342.58641429,  8489.74922184,  8636.9120294 ,  8784.07483696,\n",
       "         8931.23764452,  9078.40045208,  9225.56325964,  9372.7260672 ,\n",
       "         9519.88887476,  9667.05168232,  9814.21448987,  9961.37729743,\n",
       "        10108.54010499]),\n",
       " <BarContainer object of 100 artists>)"
      ]
     },
     "execution_count": 44,
     "metadata": {},
     "output_type": "execute_result"
    },
    {
     "data": {
      "image/png": "[encoded data removed]",
      "text/plain": [
       "<Figure size 432x288 with 1 Axes>"
      ]
     },
     "metadata": {
      "needs_background": "light"
     },
     "output_type": "display_data"
    }
   ],
   "source": [
    "plt.hist(y_pred-y_test, bins=100)"
   ]
  },
  {
   "cell_type": "markdown",
   "metadata": {},
   "source": [
    "#To avoid our model be overfitted or underfitted, regularization can be added to the model:\n",
    "\"Ridge\" which is a regularized version of Linear Regression (a regularization term is added to the cost function). The hyperparameter \"alpha\" controls how much I want to regularize the model. If alpha=0 the the Ridge is linear regression."
   ]
  },
  {
   "cell_type": "code",
   "execution_count": 46,
   "metadata": {},
   "outputs": [
    {
     "data": {
      "text/plain": [
       "0.9730470190984059"
      ]
     },
     "execution_count": 46,
     "metadata": {},
     "output_type": "execute_result"
    }
   ],
   "source": [
    "ridge2 = Ridge(alpha=100)\n",
    "ridge2.fit(X_train_reduced_pca, y_train)\n",
    "ridge2.score(X_test_prepared, y_test)"
   ]
  },
  {
   "cell_type": "markdown",
   "metadata": {},
   "source": [
    "#The score looks promissing"
   ]
  },
  {
   "cell_type": "markdown",
   "metadata": {},
   "source": [
    "#I also tried \"Lasso\" for modeling the data. is  another  regularized  version  of  Linear  Regression, just  like  Ridge, it adds a regularization term to the cost function. "
   ]
  },
  {
   "cell_type": "code",
   "execution_count": 114,
   "metadata": {},
   "outputs": [
    {
     "data": {
      "text/plain": [
       "0.9736559524038818"
      ]
     },
     "execution_count": 114,
     "metadata": {},
     "output_type": "execute_result"
    }
   ],
   "source": [
    "from sklearn.linear_model import Lasso\n",
    "lasso=Lasso(alpha=10)\n",
    "lasso.fit(X_train_reduced_pca, y_train)\n",
    "lasso.score(X_test_prepared, y_test)"
   ]
  },
  {
   "cell_type": "markdown",
   "metadata": {},
   "source": [
    "# Conclusion"
   ]
  },
  {
   "cell_type": "markdown",
   "metadata": {},
   "source": [
    "In conclusion, I think linear regression model can predicts electric consumption relatively good."
   ]
  }
 ],
 "metadata": {
  "kernelspec": {
   "display_name": "Python 3 (ipykernel)",
   "language": "python",
   "name": "python3"
  },
  "language_info": {
   "codemirror_mode": {
    "name": "ipython",
    "version": 3
   },
   "file_extension": ".py",
   "mimetype": "text/x-python",
   "name": "python",
   "nbconvert_exporter": "python",
   "pygments_lexer": "ipython3",
   "version": "3.9.12"
  },
  "nav_menu": {
   "height": "279px",
   "width": "309px"
  },
  "toc": {
   "nav_menu": {},
   "number_sections": true,
   "sideBar": true,
   "skip_h1_title": false,
   "toc_cell": false,
   "toc_position": {},
   "toc_section_display": "block",
   "toc_window_display": false
  }
 },
 "nbformat": 4,
 "nbformat_minor": 4
}
